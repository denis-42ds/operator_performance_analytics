{
 "cells": [
  {
   "cell_type": "markdown",
   "metadata": {},
   "source": [
    "## Импорт библиотек"
   ]
  },
  {
   "cell_type": "code",
   "execution_count": 1,
   "metadata": {
    "id": "5MSUpM7rWwPC"
   },
   "outputs": [],
   "source": [
    "# !pip install --upgrade sqlmagic\n",
    "# !pip install --upgrade sqlalchemy\n",
    "# !pip install --upgrade ipython-sql\n",
    "# %load_ext sql"
   ]
  },
  {
   "cell_type": "code",
   "execution_count": 2,
   "metadata": {},
   "outputs": [],
   "source": [
    "import sqlite3\n",
    "from prettytable import PrettyTable\n",
    "# import sqlalchemy\n",
    "\n",
    "# %load_ext sql # загрузка расширения sql\n",
    "# %reload_ext sql # отключение расширения sql"
   ]
  },
  {
   "cell_type": "markdown",
   "metadata": {
    "id": "OaFuPD1ibX07"
   },
   "source": [
    "## Загрузка и подключение к базе данных"
   ]
  },
  {
   "cell_type": "code",
   "execution_count": 3,
   "metadata": {
    "colab": {
     "base_uri": "https://localhost:8080/"
    },
    "id": "HsSwtOUVQX0X",
    "outputId": "f9e5181a-f014-46a9-811e-a72cf12ea443"
   },
   "outputs": [],
   "source": [
    "# скачивание базы данных с диска\n",
    "# import gdown\n",
    "# !gdown 'https://drive.google.com/uc?id=1pmfc0FrkMvlM2SITpFz6bilk-dvDG_y0'"
   ]
  },
  {
   "cell_type": "code",
   "execution_count": 4,
   "metadata": {
    "id": "N5vPTRH0Z5Ed"
   },
   "outputs": [],
   "source": [
    "# при помощи расширения sql\n",
    "# %sql sqlite:/data/data.db\n",
    "\n",
    "# %config SqlMagic.displaylimit = 50 # установка лимита вывода строк запроса\n",
    "\n",
    "# при помощи connection\n",
    "connection = sqlite3.connect('data/data.db')\n",
    "cursor = connection.cursor()"
   ]
  },
  {
   "cell_type": "markdown",
   "metadata": {
    "id": "b0CVb-oOnbPE"
   },
   "source": [
    "Вывод списка имеющихся в базе таблиц"
   ]
  },
  {
   "cell_type": "code",
   "execution_count": 5,
   "metadata": {},
   "outputs": [
    {
     "data": {
      "text/html": [
       "<table>\n",
       "    <thead>\n",
       "        <tr>\n",
       "            <th>tbl_name</th>\n",
       "            <th>sql</th>\n",
       "        </tr>\n",
       "    </thead>\n",
       "    <tbody>\n",
       "        <tr>\n",
       "            <td>mngmnt</td>\n",
       "            <td>CREATE TABLE mngmnt (<br>\torg_management_rk BIGINT, <br>\tmanagement_nm TEXT<br>)</td>\n",
       "        </tr>\n",
       "        <tr>\n",
       "            <td>product</td>\n",
       "            <td>CREATE TABLE product (<br>\thit_rk BIGINT, <br>\thid BIGINT, <br>\tusing_flg FLOAT<br>)</td>\n",
       "        </tr>\n",
       "        <tr>\n",
       "            <td>queue</td>\n",
       "            <td>CREATE TABLE queue (<br>\tqueue_id BIGINT, <br>\tqueue_desc TEXT<br>)</td>\n",
       "        </tr>\n",
       "        <tr>\n",
       "            <td>result</td>\n",
       "            <td>CREATE TABLE result (<br>\thit_status_result_id BIGINT, <br>\thit_status_result_desc TEXT<br>)</td>\n",
       "        </tr>\n",
       "        <tr>\n",
       "            <td>horoscope</td>\n",
       "            <td>CREATE TABLE horoscope (<br>\tagent_login TEXT, <br>\thoroscope TEXT<br>)</td>\n",
       "        </tr>\n",
       "        <tr>\n",
       "            <td>group</td>\n",
       "            <td>CREATE TABLE &quot;group&quot; (<br>\torg_group_rk BIGINT, <br>\torg_management_rk BIGINT, <br>\tgroup_nm TEXT<br>)</td>\n",
       "        </tr>\n",
       "        <tr>\n",
       "            <td>emp_x_org_gr</td>\n",
       "            <td>CREATE TABLE emp_x_org_gr (<br>\temployee_rk BIGINT, <br>\torg_group_rk BIGINT<br>)</td>\n",
       "        </tr>\n",
       "        <tr>\n",
       "            <td>task</td>\n",
       "            <td>CREATE TABLE task (<br>\ttask_rk BIGINT, <br>\ttask_stage_id FLOAT, <br>\tsource_system_cd TEXT, <br>\tcreate_dttm TEXT, <br>\tfinish_dttm TEXT<br>)</td>\n",
       "        </tr>\n",
       "        <tr>\n",
       "            <td>action</td>\n",
       "            <td>CREATE TABLE action (<br>\thit_rk BIGINT, <br>\thit_status_result_id BIGINT<br>)</td>\n",
       "        </tr>\n",
       "        <tr>\n",
       "            <td>call</td>\n",
       "            <td>CREATE TABLE call (<br>\two_hit_rk BIGINT, <br>\two_task_rk BIGINT, <br>\two_queue_id BIGINT, <br>\tagent_login TEXT, <br>\two_employee_rk BIGINT, <br>\tfinish_dttm TEXT, <br>\tduratoin_sec TEXT<br>)</td>\n",
       "        </tr>\n",
       "    </tbody>\n",
       "</table>"
      ],
      "text/plain": [
       "+--------------+-----------------------------+\n",
       "|   tbl_name   |             sql             |\n",
       "+--------------+-----------------------------+\n",
       "|    mngmnt    |    CREATE TABLE mngmnt (    |\n",
       "|              |               \torg_management_rk BIGINT,                |\n",
       "|              |               \tmanagement_nm TEXT               |\n",
       "|              |              )              |\n",
       "|   product    |    CREATE TABLE product (   |\n",
       "|              |               \thit_rk BIGINT,                |\n",
       "|              |               \thid BIGINT,                |\n",
       "|              |               \tusing_flg FLOAT               |\n",
       "|              |              )              |\n",
       "|    queue     |     CREATE TABLE queue (    |\n",
       "|              |               \tqueue_id BIGINT,                |\n",
       "|              |               \tqueue_desc TEXT               |\n",
       "|              |              )              |\n",
       "|    result    |    CREATE TABLE result (    |\n",
       "|              |               \thit_status_result_id BIGINT,                |\n",
       "|              |               \thit_status_result_desc TEXT               |\n",
       "|              |              )              |\n",
       "|  horoscope   |   CREATE TABLE horoscope (  |\n",
       "|              |               \tagent_login TEXT,                |\n",
       "|              |               \thoroscope TEXT               |\n",
       "|              |              )              |\n",
       "|    group     |    CREATE TABLE \"group\" (   |\n",
       "|              |               \torg_group_rk BIGINT,                |\n",
       "|              |               \torg_management_rk BIGINT,                |\n",
       "|              |               \tgroup_nm TEXT               |\n",
       "|              |              )              |\n",
       "| emp_x_org_gr | CREATE TABLE emp_x_org_gr ( |\n",
       "|              |               \temployee_rk BIGINT,                |\n",
       "|              |               \torg_group_rk BIGINT               |\n",
       "|              |              )              |\n",
       "|     task     |     CREATE TABLE task (     |\n",
       "|              |               \ttask_rk BIGINT,                |\n",
       "|              |               \ttask_stage_id FLOAT,                |\n",
       "|              |               \tsource_system_cd TEXT,                |\n",
       "|              |               \tcreate_dttm TEXT,                |\n",
       "|              |               \tfinish_dttm TEXT               |\n",
       "|              |              )              |\n",
       "|    action    |    CREATE TABLE action (    |\n",
       "|              |               \thit_rk BIGINT,                |\n",
       "|              |               \thit_status_result_id BIGINT               |\n",
       "|              |              )              |\n",
       "|     call     |     CREATE TABLE call (     |\n",
       "|              |               \two_hit_rk BIGINT,                |\n",
       "|              |               \two_task_rk BIGINT,                |\n",
       "|              |               \two_queue_id BIGINT,                |\n",
       "|              |               \tagent_login TEXT,                |\n",
       "|              |               \two_employee_rk BIGINT,                |\n",
       "|              |               \tfinish_dttm TEXT,                |\n",
       "|              |               \tduratoin_sec TEXT               |\n",
       "|              |              )              |\n",
       "+--------------+-----------------------------+"
      ]
     },
     "metadata": {},
     "output_type": "display_data"
    }
   ],
   "source": [
    "# %sql select tbl_name, \"sql\" from sqlite_master; # при помощи расширения sql\n",
    "\n",
    "# при помощи connection\n",
    "cursor.execute('''\n",
    "SELECT \n",
    "  tbl_name,\n",
    "  \"sql\" \n",
    "FROM \n",
    "  sqlite_master\n",
    "''')\n",
    "\n",
    "results = cursor.fetchall()\n",
    "table = PrettyTable()\n",
    "table.field_names = [description[0] for description in cursor.description]\n",
    "\n",
    "for row in results:\n",
    "    table.add_row(row)\n",
    "display(table)"
   ]
  },
  {
   "cell_type": "markdown",
   "metadata": {
    "id": "2Ka5WNwin4cE"
   },
   "source": [
    "# Объединение таблиц\n",
    "Необходимо с помощью SQL запроса собрать одну общую таблицу из всех данных витрин, которая должна включать в себя все поля этих витрин."
   ]
  },
  {
   "cell_type": "markdown",
   "metadata": {
    "id": "DkutSO1krZ4t"
   },
   "source": [
    "## Решение"
   ]
  },
  {
   "cell_type": "markdown",
   "metadata": {},
   "source": [
    "Проверка уникальных записей ключей"
   ]
  },
  {
   "cell_type": "code",
   "execution_count": 6,
   "metadata": {
    "colab": {
     "base_uri": "https://localhost:8080/",
     "height": 96
    },
    "id": "aZFIpp3DSa0C",
    "outputId": "db72121b-3bd0-4fd7-c8f9-d6e8ceef8f32"
   },
   "outputs": [
    {
     "data": {
      "text/html": [
       "<table>\n",
       "    <thead>\n",
       "        <tr>\n",
       "            <th>COUNT(DISTINCT org_management_rk)</th>\n",
       "        </tr>\n",
       "    </thead>\n",
       "    <tbody>\n",
       "        <tr>\n",
       "            <td>45</td>\n",
       "        </tr>\n",
       "    </tbody>\n",
       "</table>"
      ],
      "text/plain": [
       "+-----------------------------------+\n",
       "| COUNT(DISTINCT org_management_rk) |\n",
       "+-----------------------------------+\n",
       "|                 45                |\n",
       "+-----------------------------------+"
      ]
     },
     "metadata": {},
     "output_type": "display_data"
    }
   ],
   "source": [
    "# при помощи расширения sql\n",
    "# %%sql\n",
    "# select\n",
    "#   count (distinct org_management_rk)\n",
    "# from\n",
    "#   mngmnt\n",
    "\n",
    "# при помощи connection\n",
    "cursor.execute('''\n",
    "SELECT\n",
    "  COUNT(DISTINCT org_management_rk)\n",
    "FROM\n",
    "  mngmnt\n",
    "''')\n",
    "\n",
    "results = cursor.fetchall()\n",
    "table = PrettyTable()\n",
    "table.field_names = [description[0] for description in cursor.description]\n",
    "\n",
    "for row in results:\n",
    "    table.add_row(row)\n",
    "display(table)"
   ]
  },
  {
   "cell_type": "markdown",
   "metadata": {
    "id": "w8K8nCW5S7yk"
   },
   "source": [
    "call - count (distinct wo_task_rk) - 50000\n",
    "<br>task - count (distinct task_rk) - 50000\n",
    "\n",
    "call - count (distinct wo_hit_rk) - 89174\n",
    "<br>action - count (distinct hit_rk) - 89174\n",
    "<br>product - count (distinct hit_rk) - 89174\n",
    "\n",
    "call - count (distinct wo_employee_rk) - 1962\n",
    "<br>emp_x_org_gr - count (distinct employee_rk) - 1962\n",
    "\n",
    "call - count (distinct wo_queue_id) - 157\n",
    "<br>queue - count (distinct queue_id) - 155\n",
    "\n",
    "call - count (distinct agent_login) - 1962<br>horoscope - count (distinct agent_login) - 1962\n",
    "\n",
    "action - count (distinct hit_status_result_id) - 7<br>result - count (distinct hit_status_result_id) - 7\n",
    "\n",
    "emp_x_org_gr - count (distinct org_group_rk) - 52<br>group - count (distinct org_group_rk) - 52\n",
    "\n",
    "group - count (org_management_rk) - 45<br>mngmnt - count (org_management_rk) - 45"
   ]
  },
  {
   "cell_type": "markdown",
   "metadata": {},
   "source": [
    "Выводы:\n",
    "- Использование полного внешнего объединения невозможно\n",
    "- Будет использование внешнее объединение по левой таблице"
   ]
  },
  {
   "cell_type": "markdown",
   "metadata": {},
   "source": [
    "Вывод 10-ти строк объединённой таблицы"
   ]
  },
  {
   "cell_type": "code",
   "execution_count": 7,
   "metadata": {
    "colab": {
     "base_uri": "https://localhost:8080/",
     "height": 482
    },
    "id": "3rCOMTxaavfn",
    "outputId": "16f9ec2f-0ddb-4d2c-d3ea-589bbdef9372"
   },
   "outputs": [
    {
     "data": {
      "text/html": [
       "<table>\n",
       "    <thead>\n",
       "        <tr>\n",
       "            <th>wo_hit_rk_0</th>\n",
       "            <th>wo_task_rk_1</th>\n",
       "            <th>wo_queue_id_2</th>\n",
       "            <th>agent_login_3</th>\n",
       "            <th>wo_employee_rk_4</th>\n",
       "            <th>finish_dttm_5</th>\n",
       "            <th>duratoin_sec_6</th>\n",
       "            <th>task_rk_7</th>\n",
       "            <th>task_stage_id_8</th>\n",
       "            <th>source_system_cd_9</th>\n",
       "            <th>create_dttm_10</th>\n",
       "            <th>finish_dttm_11</th>\n",
       "            <th>hit_rk_12</th>\n",
       "            <th>hit_status_result_id_13</th>\n",
       "            <th>hit_rk_14</th>\n",
       "            <th>hid_15</th>\n",
       "            <th>using_flg_16</th>\n",
       "            <th>employee_rk_17</th>\n",
       "            <th>org_group_rk_18</th>\n",
       "            <th>queue_id_19</th>\n",
       "            <th>queue_desc_20</th>\n",
       "            <th>agent_login_21</th>\n",
       "            <th>horoscope_22</th>\n",
       "            <th>hit_status_result_id_23</th>\n",
       "            <th>hit_status_result_desc_24</th>\n",
       "            <th>org_group_rk_25</th>\n",
       "            <th>org_management_rk_26</th>\n",
       "            <th>group_nm_27</th>\n",
       "            <th>org_management_rk_28</th>\n",
       "            <th>management_nm_29</th>\n",
       "        </tr>\n",
       "    </thead>\n",
       "    <tbody>\n",
       "        <tr>\n",
       "            <td>73292106</td>\n",
       "            <td>93625442</td>\n",
       "            <td>12245</td>\n",
       "            <td>lyangama</td>\n",
       "            <td>66749466</td>\n",
       "            <td>2022-08-01 12:52:25</td>\n",
       "            <td>0</td>\n",
       "            <td>93625442</td>\n",
       "            <td>1.0</td>\n",
       "            <td>GI</td>\n",
       "            <td>2022-08-01 00:46:37</td>\n",
       "            <td>2022-08-01 15:35:39</td>\n",
       "            <td>73292106</td>\n",
       "            <td>5</td>\n",
       "            <td>73292106</td>\n",
       "            <td>4</td>\n",
       "            <td>None</td>\n",
       "            <td>66749466</td>\n",
       "            <td>3244</td>\n",
       "            <td>12245</td>\n",
       "            <td>Очередь 143</td>\n",
       "            <td>lyangama</td>\n",
       "            <td>Козерог</td>\n",
       "            <td>5</td>\n",
       "            <td>Недозвон</td>\n",
       "            <td>3244</td>\n",
       "            <td>1621</td>\n",
       "            <td>Группа 30</td>\n",
       "            <td>1621</td>\n",
       "            <td>Управление КЦ Чизан</td>\n",
       "        </tr>\n",
       "        <tr>\n",
       "            <td>93763347</td>\n",
       "            <td>98572816</td>\n",
       "            <td>11696</td>\n",
       "            <td>enkoiion</td>\n",
       "            <td>88931008</td>\n",
       "            <td>2022-08-08 10:46:46</td>\n",
       "            <td>12,53</td>\n",
       "            <td>98572816</td>\n",
       "            <td>1.0</td>\n",
       "            <td>GI</td>\n",
       "            <td>2022-08-06 11:24:23</td>\n",
       "            <td>2022-08-17 11:23:53</td>\n",
       "            <td>93763347</td>\n",
       "            <td>2</td>\n",
       "            <td>93763347</td>\n",
       "            <td>3</td>\n",
       "            <td>None</td>\n",
       "            <td>88931008</td>\n",
       "            <td>2568</td>\n",
       "            <td>11696</td>\n",
       "            <td>Очередь 4</td>\n",
       "            <td>enkoiion</td>\n",
       "            <td>Козерог</td>\n",
       "            <td>2</td>\n",
       "            <td>Дозвон, Перезвонить</td>\n",
       "            <td>2568</td>\n",
       "            <td>1728</td>\n",
       "            <td>Группа 20</td>\n",
       "            <td>1728</td>\n",
       "            <td>Управление КЦ Мас</td>\n",
       "        </tr>\n",
       "        <tr>\n",
       "            <td>13988704</td>\n",
       "            <td>91292760</td>\n",
       "            <td>14354</td>\n",
       "            <td>kinalapo</td>\n",
       "            <td>61041016</td>\n",
       "            <td>2022-08-16 14:16:03</td>\n",
       "            <td>0</td>\n",
       "            <td>91292760</td>\n",
       "            <td>1.0</td>\n",
       "            <td>GI</td>\n",
       "            <td>2022-07-29 04:46:37</td>\n",
       "            <td>2022-09-22 10:57:30</td>\n",
       "            <td>13988704</td>\n",
       "            <td>5</td>\n",
       "            <td>13988704</td>\n",
       "            <td>4</td>\n",
       "            <td>None</td>\n",
       "            <td>61041016</td>\n",
       "            <td>2389</td>\n",
       "            <td>14354</td>\n",
       "            <td>Очередь 58</td>\n",
       "            <td>kinalapo</td>\n",
       "            <td>Козерог</td>\n",
       "            <td>5</td>\n",
       "            <td>Недозвон</td>\n",
       "            <td>2389</td>\n",
       "            <td>323</td>\n",
       "            <td>Группа 5</td>\n",
       "            <td>323</td>\n",
       "            <td>Управление КЦ Ромашка</td>\n",
       "        </tr>\n",
       "        <tr>\n",
       "            <td>28495290</td>\n",
       "            <td>12470192</td>\n",
       "            <td>14303</td>\n",
       "            <td>kinasgsa</td>\n",
       "            <td>98181009</td>\n",
       "            <td>2022-08-22 18:38:13</td>\n",
       "            <td>0</td>\n",
       "            <td>12470192</td>\n",
       "            <td>1.0</td>\n",
       "            <td>GI</td>\n",
       "            <td>2022-08-21 01:55:57</td>\n",
       "            <td>2022-08-30 12:59:05</td>\n",
       "            <td>28495290</td>\n",
       "            <td>5</td>\n",
       "            <td>28495290</td>\n",
       "            <td>4</td>\n",
       "            <td>None</td>\n",
       "            <td>98181009</td>\n",
       "            <td>2097</td>\n",
       "            <td>14303</td>\n",
       "            <td>Очередь 79</td>\n",
       "            <td>kinasgsa</td>\n",
       "            <td>Козерог</td>\n",
       "            <td>5</td>\n",
       "            <td>Недозвон</td>\n",
       "            <td>2097</td>\n",
       "            <td>687</td>\n",
       "            <td>Группа 19</td>\n",
       "            <td>687</td>\n",
       "            <td>Управление КЦ Верс</td>\n",
       "        </tr>\n",
       "        <tr>\n",
       "            <td>31412029</td>\n",
       "            <td>161228</td>\n",
       "            <td>9264</td>\n",
       "            <td>ikovnisu</td>\n",
       "            <td>47451124</td>\n",
       "            <td>2022-08-23 10:38:24</td>\n",
       "            <td>128,47</td>\n",
       "            <td>161228</td>\n",
       "            <td>1.0</td>\n",
       "            <td>GI</td>\n",
       "            <td>2022-08-08 01:01:35</td>\n",
       "            <td>2022-08-23 10:38:33</td>\n",
       "            <td>31412029</td>\n",
       "            <td>1</td>\n",
       "            <td>31412029</td>\n",
       "            <td>2</td>\n",
       "            <td>None</td>\n",
       "            <td>47451124</td>\n",
       "            <td>2105</td>\n",
       "            <td>9264</td>\n",
       "            <td>Очередь 43</td>\n",
       "            <td>ikovnisu</td>\n",
       "            <td>Козерог</td>\n",
       "            <td>1</td>\n",
       "            <td>Дозвон, Отказ</td>\n",
       "            <td>2105</td>\n",
       "            <td>689</td>\n",
       "            <td>Группа 31</td>\n",
       "            <td>689</td>\n",
       "            <td>Управление КЦ Казан</td>\n",
       "        </tr>\n",
       "        <tr>\n",
       "            <td>82299889</td>\n",
       "            <td>85191861</td>\n",
       "            <td>14644</td>\n",
       "            <td>atovksip</td>\n",
       "            <td>77811117</td>\n",
       "            <td>2022-08-04 10:53:26</td>\n",
       "            <td>0</td>\n",
       "            <td>85191861</td>\n",
       "            <td>1.0</td>\n",
       "            <td>GI</td>\n",
       "            <td>2022-07-22 17:38:27</td>\n",
       "            <td>2022-08-12 14:57:49</td>\n",
       "            <td>82299889</td>\n",
       "            <td>5</td>\n",
       "            <td>82299889</td>\n",
       "            <td>4</td>\n",
       "            <td>None</td>\n",
       "            <td>77811117</td>\n",
       "            <td>2136</td>\n",
       "            <td>14644</td>\n",
       "            <td>Очередь 119</td>\n",
       "            <td>atovksip</td>\n",
       "            <td>Козерог</td>\n",
       "            <td>5</td>\n",
       "            <td>Недозвон</td>\n",
       "            <td>2136</td>\n",
       "            <td>696</td>\n",
       "            <td>Группа 48</td>\n",
       "            <td>696</td>\n",
       "            <td>Управление КЦ Неп</td>\n",
       "        </tr>\n",
       "        <tr>\n",
       "            <td>89329077</td>\n",
       "            <td>98650151</td>\n",
       "            <td>12245</td>\n",
       "            <td>oyankrsh</td>\n",
       "            <td>88658588</td>\n",
       "            <td>2022-08-06 13:32:42</td>\n",
       "            <td>0</td>\n",
       "            <td>98650151</td>\n",
       "            <td>1.0</td>\n",
       "            <td>GI</td>\n",
       "            <td>2022-08-06 06:30:48</td>\n",
       "            <td>2022-08-09 15:49:22</td>\n",
       "            <td>89329077</td>\n",
       "            <td>5</td>\n",
       "            <td>89329077</td>\n",
       "            <td>4</td>\n",
       "            <td>None</td>\n",
       "            <td>88658588</td>\n",
       "            <td>3240</td>\n",
       "            <td>12245</td>\n",
       "            <td>Очередь 143</td>\n",
       "            <td>oyankrsh</td>\n",
       "            <td>Козерог</td>\n",
       "            <td>5</td>\n",
       "            <td>Недозвон</td>\n",
       "            <td>3240</td>\n",
       "            <td>1621</td>\n",
       "            <td>Группа 36</td>\n",
       "            <td>1621</td>\n",
       "            <td>Управление КЦ Чизан</td>\n",
       "        </tr>\n",
       "        <tr>\n",
       "            <td>19715922</td>\n",
       "            <td>9596828</td>\n",
       "            <td>14644</td>\n",
       "            <td>llinirra</td>\n",
       "            <td>59539859</td>\n",
       "            <td>2022-08-18 13:19:21</td>\n",
       "            <td>71,99</td>\n",
       "            <td>9596828</td>\n",
       "            <td>1.0</td>\n",
       "            <td>GI</td>\n",
       "            <td>2022-08-18 00:47:21</td>\n",
       "            <td>2022-08-18 13:19:26</td>\n",
       "            <td>19715922</td>\n",
       "            <td>1</td>\n",
       "            <td>19715922</td>\n",
       "            <td>4</td>\n",
       "            <td>None</td>\n",
       "            <td>59539859</td>\n",
       "            <td>2138</td>\n",
       "            <td>14644</td>\n",
       "            <td>Очередь 119</td>\n",
       "            <td>llinirra</td>\n",
       "            <td>Козерог</td>\n",
       "            <td>1</td>\n",
       "            <td>Дозвон, Отказ</td>\n",
       "            <td>2138</td>\n",
       "            <td>1521</td>\n",
       "            <td>Группа 29</td>\n",
       "            <td>1521</td>\n",
       "            <td>Управление КЦ Дирим</td>\n",
       "        </tr>\n",
       "        <tr>\n",
       "            <td>42214192</td>\n",
       "            <td>14854023</td>\n",
       "            <td>13044</td>\n",
       "            <td>novabbmu</td>\n",
       "            <td>11371111</td>\n",
       "            <td>2022-08-26 11:47:11</td>\n",
       "            <td>208,12</td>\n",
       "            <td>14854023</td>\n",
       "            <td>23.0</td>\n",
       "            <td>FW</td>\n",
       "            <td>2022-08-24 04:11:24</td>\n",
       "            <td>2022-08-26 11:47:11</td>\n",
       "            <td>42214192</td>\n",
       "            <td>1</td>\n",
       "            <td>42214192</td>\n",
       "            <td>4</td>\n",
       "            <td>None</td>\n",
       "            <td>11371111</td>\n",
       "            <td>960</td>\n",
       "            <td>13044</td>\n",
       "            <td>Очередь 111</td>\n",
       "            <td>novabbmu</td>\n",
       "            <td>Козерог</td>\n",
       "            <td>1</td>\n",
       "            <td>Дозвон, Отказ</td>\n",
       "            <td>960</td>\n",
       "            <td>402</td>\n",
       "            <td>Группа 15</td>\n",
       "            <td>402</td>\n",
       "            <td>Управление КЦ Шоколад</td>\n",
       "        </tr>\n",
       "        <tr>\n",
       "            <td>51183929</td>\n",
       "            <td>18611189</td>\n",
       "            <td>13045</td>\n",
       "            <td>ievavamu</td>\n",
       "            <td>4241040</td>\n",
       "            <td>2022-08-30 16:45:57</td>\n",
       "            <td>0</td>\n",
       "            <td>18611189</td>\n",
       "            <td>23.0</td>\n",
       "            <td>FW</td>\n",
       "            <td>2022-08-30 03:10:40</td>\n",
       "            <td>2022-08-31 10:05:40</td>\n",
       "            <td>51183929</td>\n",
       "            <td>5</td>\n",
       "            <td>51183929</td>\n",
       "            <td>4</td>\n",
       "            <td>None</td>\n",
       "            <td>4241040</td>\n",
       "            <td>58</td>\n",
       "            <td>13045</td>\n",
       "            <td>Очередь 29</td>\n",
       "            <td>ievavamu</td>\n",
       "            <td>Козерог</td>\n",
       "            <td>5</td>\n",
       "            <td>Недозвон</td>\n",
       "            <td>58</td>\n",
       "            <td>325</td>\n",
       "            <td>Группа 42</td>\n",
       "            <td>325</td>\n",
       "            <td>Управление КЦ Супер</td>\n",
       "        </tr>\n",
       "    </tbody>\n",
       "</table>"
      ],
      "text/plain": [
       "+-------------+--------------+---------------+---------------+------------------+---------------------+----------------+-----------+-----------------+--------------------+---------------------+---------------------+-----------+-------------------------+-----------+--------+--------------+----------------+-----------------+-------------+---------------+----------------+--------------+-------------------------+---------------------------+-----------------+----------------------+-------------+----------------------+-----------------------+\n",
       "| wo_hit_rk_0 | wo_task_rk_1 | wo_queue_id_2 | agent_login_3 | wo_employee_rk_4 |    finish_dttm_5    | duratoin_sec_6 | task_rk_7 | task_stage_id_8 | source_system_cd_9 |    create_dttm_10   |    finish_dttm_11   | hit_rk_12 | hit_status_result_id_13 | hit_rk_14 | hid_15 | using_flg_16 | employee_rk_17 | org_group_rk_18 | queue_id_19 | queue_desc_20 | agent_login_21 | horoscope_22 | hit_status_result_id_23 | hit_status_result_desc_24 | org_group_rk_25 | org_management_rk_26 | group_nm_27 | org_management_rk_28 |    management_nm_29   |\n",
       "+-------------+--------------+---------------+---------------+------------------+---------------------+----------------+-----------+-----------------+--------------------+---------------------+---------------------+-----------+-------------------------+-----------+--------+--------------+----------------+-----------------+-------------+---------------+----------------+--------------+-------------------------+---------------------------+-----------------+----------------------+-------------+----------------------+-----------------------+\n",
       "|   73292106  |   93625442   |     12245     |    lyangama   |     66749466     | 2022-08-01 12:52:25 |       0        |  93625442 |       1.0       |         GI         | 2022-08-01 00:46:37 | 2022-08-01 15:35:39 |  73292106 |            5            |  73292106 |   4    |     None     |    66749466    |       3244      |    12245    |  Очередь 143  |    lyangama    |   Козерог    |            5            |          Недозвон         |       3244      |         1621         |  Группа 30  |         1621         |  Управление КЦ Чизан  |\n",
       "|   93763347  |   98572816   |     11696     |    enkoiion   |     88931008     | 2022-08-08 10:46:46 |     12,53      |  98572816 |       1.0       |         GI         | 2022-08-06 11:24:23 | 2022-08-17 11:23:53 |  93763347 |            2            |  93763347 |   3    |     None     |    88931008    |       2568      |    11696    |   Очередь 4   |    enkoiion    |   Козерог    |            2            |    Дозвон, Перезвонить    |       2568      |         1728         |  Группа 20  |         1728         |   Управление КЦ Мас   |\n",
       "|   13988704  |   91292760   |     14354     |    kinalapo   |     61041016     | 2022-08-16 14:16:03 |       0        |  91292760 |       1.0       |         GI         | 2022-07-29 04:46:37 | 2022-09-22 10:57:30 |  13988704 |            5            |  13988704 |   4    |     None     |    61041016    |       2389      |    14354    |   Очередь 58  |    kinalapo    |   Козерог    |            5            |          Недозвон         |       2389      |         323          |   Группа 5  |         323          | Управление КЦ Ромашка |\n",
       "|   28495290  |   12470192   |     14303     |    kinasgsa   |     98181009     | 2022-08-22 18:38:13 |       0        |  12470192 |       1.0       |         GI         | 2022-08-21 01:55:57 | 2022-08-30 12:59:05 |  28495290 |            5            |  28495290 |   4    |     None     |    98181009    |       2097      |    14303    |   Очередь 79  |    kinasgsa    |   Козерог    |            5            |          Недозвон         |       2097      |         687          |  Группа 19  |         687          |   Управление КЦ Верс  |\n",
       "|   31412029  |    161228    |      9264     |    ikovnisu   |     47451124     | 2022-08-23 10:38:24 |     128,47     |   161228  |       1.0       |         GI         | 2022-08-08 01:01:35 | 2022-08-23 10:38:33 |  31412029 |            1            |  31412029 |   2    |     None     |    47451124    |       2105      |     9264    |   Очередь 43  |    ikovnisu    |   Козерог    |            1            |       Дозвон, Отказ       |       2105      |         689          |  Группа 31  |         689          |  Управление КЦ Казан  |\n",
       "|   82299889  |   85191861   |     14644     |    atovksip   |     77811117     | 2022-08-04 10:53:26 |       0        |  85191861 |       1.0       |         GI         | 2022-07-22 17:38:27 | 2022-08-12 14:57:49 |  82299889 |            5            |  82299889 |   4    |     None     |    77811117    |       2136      |    14644    |  Очередь 119  |    atovksip    |   Козерог    |            5            |          Недозвон         |       2136      |         696          |  Группа 48  |         696          |   Управление КЦ Неп   |\n",
       "|   89329077  |   98650151   |     12245     |    oyankrsh   |     88658588     | 2022-08-06 13:32:42 |       0        |  98650151 |       1.0       |         GI         | 2022-08-06 06:30:48 | 2022-08-09 15:49:22 |  89329077 |            5            |  89329077 |   4    |     None     |    88658588    |       3240      |    12245    |  Очередь 143  |    oyankrsh    |   Козерог    |            5            |          Недозвон         |       3240      |         1621         |  Группа 36  |         1621         |  Управление КЦ Чизан  |\n",
       "|   19715922  |   9596828    |     14644     |    llinirra   |     59539859     | 2022-08-18 13:19:21 |     71,99      |  9596828  |       1.0       |         GI         | 2022-08-18 00:47:21 | 2022-08-18 13:19:26 |  19715922 |            1            |  19715922 |   4    |     None     |    59539859    |       2138      |    14644    |  Очередь 119  |    llinirra    |   Козерог    |            1            |       Дозвон, Отказ       |       2138      |         1521         |  Группа 29  |         1521         |  Управление КЦ Дирим  |\n",
       "|   42214192  |   14854023   |     13044     |    novabbmu   |     11371111     | 2022-08-26 11:47:11 |     208,12     |  14854023 |       23.0      |         FW         | 2022-08-24 04:11:24 | 2022-08-26 11:47:11 |  42214192 |            1            |  42214192 |   4    |     None     |    11371111    |       960       |    13044    |  Очередь 111  |    novabbmu    |   Козерог    |            1            |       Дозвон, Отказ       |       960       |         402          |  Группа 15  |         402          | Управление КЦ Шоколад |\n",
       "|   51183929  |   18611189   |     13045     |    ievavamu   |     4241040      | 2022-08-30 16:45:57 |       0        |  18611189 |       23.0      |         FW         | 2022-08-30 03:10:40 | 2022-08-31 10:05:40 |  51183929 |            5            |  51183929 |   4    |     None     |    4241040     |        58       |    13045    |   Очередь 29  |    ievavamu    |   Козерог    |            5            |          Недозвон         |        58       |         325          |  Группа 42  |         325          |  Управление КЦ Супер  |\n",
       "+-------------+--------------+---------------+---------------+------------------+---------------------+----------------+-----------+-----------------+--------------------+---------------------+---------------------+-----------+-------------------------+-----------+--------+--------------+----------------+-----------------+-------------+---------------+----------------+--------------+-------------------------+---------------------------+-----------------+----------------------+-------------+----------------------+-----------------------+"
      ]
     },
     "metadata": {},
     "output_type": "display_data"
    }
   ],
   "source": [
    "# при помощи расширения sql\n",
    "# %%sql\n",
    "# select\n",
    "#   *\n",
    "# from\n",
    "#   call\n",
    "#   left join task on call.wo_task_rk = task.task_rk\n",
    "#   left join action on call.wo_hit_rk = action.hit_rk\n",
    "#   left join product on call.wo_hit_rk = product.hit_rk\n",
    "#   left join emp_x_org_gr on call.wo_employee_rk = emp_x_org_gr.employee_rk\n",
    "#   left join queue on call.wo_queue_id = queue.queue_id\n",
    "#   left join horoscope on call.agent_login = horoscope.agent_login\n",
    "#   left join result on action.hit_status_result_id = result.hit_status_result_id\n",
    "#   left join \"group\" on emp_x_org_gr.org_group_rk = \"group\".org_group_rk\n",
    "#   left join mngmnt on \"group\".org_management_rk = mngmnt.org_management_rk\n",
    "# limit\n",
    "#   10;\n",
    "\n",
    "# при помощи connection\n",
    "cursor.execute('''\n",
    "SELECT \n",
    "  * \n",
    "FROM\n",
    "  call\n",
    "  left join task on call.wo_task_rk = task.task_rk\n",
    "  left join action on call.wo_hit_rk = action.hit_rk\n",
    "  left join product on call.wo_hit_rk = product.hit_rk\n",
    "  left join emp_x_org_gr on call.wo_employee_rk = emp_x_org_gr.employee_rk\n",
    "  left join queue on call.wo_queue_id = queue.queue_id\n",
    "  left join horoscope on call.agent_login = horoscope.agent_login\n",
    "  left join result on action.hit_status_result_id = result.hit_status_result_id\n",
    "  left join \"group\" on emp_x_org_gr.org_group_rk = \"group\".org_group_rk\n",
    "  left join mngmnt on \"group\".org_management_rk = mngmnt.org_management_rk\n",
    "LIMIT\n",
    "  10\n",
    "''')\n",
    "\n",
    "# Сохранение запроса в переменную\n",
    "results = cursor.fetchall()\n",
    "table = PrettyTable()\n",
    "# Создание уникальных названий колонок\n",
    "table.field_names = [f\"{description[0]}_{index}\" for index, description in enumerate(cursor.description)]\n",
    "# Вывод результата\n",
    "for row in results:\n",
    "    table.add_row(row)\n",
    "display(table)"
   ]
  },
  {
   "cell_type": "markdown",
   "metadata": {
    "id": "GA5lS-r0rqO4"
   },
   "source": [
    "# Расчёт метрик\n",
    "Необходимо посчитать следующие значения:\n",
    "\n",
    "* Общее количество звонков со статусом «Дозвон, Успешно»;\n",
    "* Продажная конверсия, по формуле:\n",
    "\n",
    "  $$ Конверсия = \\frac{N_{Дозвон, Успешно}}{N_{Дозвон, Успешно} + N_{Дозвон, Отказ}}$$\n",
    "* Средняя длительность одной коммуникации, закрытой статусом «Дозвон, Успешно»\n",
    "\n",
    "Ответы необходимо вписать в соответствующую таблицу в фаиле \"Техническое задание\"\n"
   ]
  },
  {
   "cell_type": "markdown",
   "metadata": {
    "id": "9BlxIlXvrswz"
   },
   "source": [
    "## Решение"
   ]
  },
  {
   "cell_type": "markdown",
   "metadata": {
    "id": "XafHdCv0iG1o"
   },
   "source": [
    "### Общее количество звонков со статусом «Дозвон, Успешно"
   ]
  },
  {
   "cell_type": "code",
   "execution_count": 8,
   "metadata": {
    "colab": {
     "base_uri": "https://localhost:8080/",
     "height": 96
    },
    "id": "9lM0wcx0DdcW",
    "outputId": "18816a7b-260a-455f-f071-8260cf507290"
   },
   "outputs": [
    {
     "name": "stdout",
     "output_type": "stream",
     "text": [
      "Количество звонков со статусом \"Дозвон, Успешно\": 3310\n"
     ]
    }
   ],
   "source": [
    "# при помощи расширения sql\n",
    "# %%sql\n",
    "# select\n",
    "#   count(*)\n",
    "# from\n",
    "#   call\n",
    "#   left join action on call.wo_hit_rk = action.hit_rk\n",
    "#   left join result on action.hit_status_result_id = result.hit_status_result_id\n",
    "# where\n",
    "#   action.hit_status_result_id = 3\n",
    "\n",
    "# при помощи connection\n",
    "cursor.execute('''\n",
    "SELECT \n",
    "  COUNT(*)\n",
    "FROM\n",
    "  call\n",
    "  left join action on call.wo_hit_rk = action.hit_rk\n",
    "  left join result on action.hit_status_result_id = result.hit_status_result_id\n",
    "WHERE\n",
    "  action.hit_status_result_id = 3\n",
    "''')\n",
    "\n",
    "# Сохранение запроса в переменную\n",
    "results = cursor.fetchall()\n",
    "successfull_calls = PrettyTable()\n",
    "\n",
    "# Вывод результата\n",
    "for row in results:\n",
    "    successfull_calls.add_row(row)\n",
    "print('Количество звонков со статусом \"Дозвон, Успешно\":', \n",
    "      int(float(successfull_calls.get_string().split(\"|\")[3].strip())))"
   ]
  },
  {
   "cell_type": "markdown",
   "metadata": {
    "id": "nFcyUGVqiMi2"
   },
   "source": [
    "### Расчёт продажной конверсии"
   ]
  },
  {
   "cell_type": "markdown",
   "metadata": {},
   "source": [
    "Дозвон, Отказ"
   ]
  },
  {
   "cell_type": "code",
   "execution_count": 9,
   "metadata": {
    "colab": {
     "base_uri": "https://localhost:8080/"
    },
    "id": "4wWSKG1diXWY",
    "outputId": "3bb239a5-7e8c-45a8-be55-3bbbe05d4c82"
   },
   "outputs": [
    {
     "name": "stdout",
     "output_type": "stream",
     "text": [
      "Количество звонков со статусом \"Дозвон, Отказ\": 18459\n"
     ]
    }
   ],
   "source": [
    "# при помощи расширения sql\n",
    "\n",
    "# %%sql unsuccessfull_calls <<\n",
    "# select\n",
    "#   count(*)\n",
    "# from\n",
    "#   call\n",
    "#   left join action on call.wo_hit_rk = action.hit_rk\n",
    "#   left join result on action.hit_status_result_id = result.hit_status_result_id\n",
    "# where\n",
    "#   action.hit_status_result_id = 1\n",
    "\n",
    "# при помощи connection\n",
    "cursor.execute('''\n",
    "SELECT \n",
    "  COUNT(*)\n",
    "FROM\n",
    "  call\n",
    "  left join action on call.wo_hit_rk = action.hit_rk\n",
    "  left join result on action.hit_status_result_id = result.hit_status_result_id\n",
    "WHERE\n",
    "  action.hit_status_result_id = 1\n",
    "''')\n",
    "\n",
    "# Сохранение запроса в переменную\n",
    "results = cursor.fetchall()\n",
    "unsuccessfull_calls = PrettyTable()\n",
    "\n",
    "# Вывод результата\n",
    "for row in results:\n",
    "    unsuccessfull_calls.add_row(row)\n",
    "print('Количество звонков со статусом \"Дозвон, Отказ\":', \n",
    "      int(float(unsuccessfull_calls.get_string().split(\"|\")[3].strip())))"
   ]
  },
  {
   "cell_type": "code",
   "execution_count": 10,
   "metadata": {},
   "outputs": [
    {
     "name": "stdout",
     "output_type": "stream",
     "text": [
      "Продажная конверсия: 0.15\n"
     ]
    }
   ],
   "source": [
    "# при помощи расширения sql\n",
    "# sales_conversion = successfull_calls[0][0] / (successfull_calls[0][0] + unsuccessfull_calls[0][0])\n",
    "\n",
    "# при помощи connection\n",
    "sales_conversion = (\n",
    "    float(successfull_calls.get_string().split(\"|\")[3].strip()) / \n",
    "    (float(successfull_calls.get_string().split(\"|\")[3].strip()) + \n",
    "     float(unsuccessfull_calls.get_string().split(\"|\")[3].strip()))\n",
    ")\n",
    "print('Продажная конверсия:', round(sales_conversion, 2))"
   ]
  },
  {
   "cell_type": "markdown",
   "metadata": {
    "id": "KbzCghhijS4F"
   },
   "source": [
    "### Средняя длительность одной коммуникации, закрытой статусом «Дозвон, Успешно»"
   ]
  },
  {
   "cell_type": "code",
   "execution_count": 11,
   "metadata": {
    "colab": {
     "base_uri": "https://localhost:8080/",
     "height": 96
    },
    "id": "ceeK_k31jfQu",
    "outputId": "9026595d-5593-4962-e139-7bb579a8661d"
   },
   "outputs": [
    {
     "name": "stdout",
     "output_type": "stream",
     "text": [
      "Средняя длительность одной коммуникации, закрытой статусом «Дозвон, Успешно»: 110.0\n"
     ]
    }
   ],
   "source": [
    "# при помощи расширения sql\n",
    "# %%sql\n",
    "# select\n",
    "#   round(avg(duratoin_sec), 0)\n",
    "# from\n",
    "#   call\n",
    "#   left join action on call.wo_hit_rk = action.hit_rk\n",
    "#   left join result on action.hit_status_result_id = result.hit_status_result_id\n",
    "# where\n",
    "#   action.hit_status_result_id = 3;\n",
    "\n",
    "# при помощи connection\n",
    "cursor.execute('''\n",
    "SELECT \n",
    "  ROUND(AVG(duratoin_sec), 0)\n",
    "FROM\n",
    "  call\n",
    "  left join action on call.wo_hit_rk = action.hit_rk\n",
    "  left join result on action.hit_status_result_id = result.hit_status_result_id\n",
    "WHERE\n",
    "  action.hit_status_result_id = 3\n",
    "''')\n",
    "\n",
    "# Сохранение запроса в переменную\n",
    "results = cursor.fetchall()\n",
    "table = PrettyTable()\n",
    "\n",
    "# Вывод результата\n",
    "for row in results:\n",
    "    table.add_row(row)\n",
    "print('Средняя длительность одной коммуникации, закрытой статусом «Дозвон, Успешно»:', \n",
    "      float(table.get_string().split(\"|\")[3].strip()))"
   ]
  },
  {
   "cell_type": "markdown",
   "metadata": {},
   "source": [
    "# Закрытие подключения к базе данных"
   ]
  },
  {
   "cell_type": "code",
   "execution_count": 12,
   "metadata": {},
   "outputs": [],
   "source": [
    "connection.close()"
   ]
  },
  {
   "cell_type": "markdown",
   "metadata": {},
   "source": [
    "Создание файла requirements.txt"
   ]
  },
  {
   "cell_type": "code",
   "execution_count": 13,
   "metadata": {},
   "outputs": [],
   "source": [
    "# !pipreqsnb operator_performance_analytics.ipynb"
   ]
  },
  {
   "cell_type": "markdown",
   "metadata": {},
   "source": [
    "# Заключение\n",
    "- Исследование провдено в БД SQLite\n",
    "- Сформированы запросы\n",
    "- Расчитаны необходимые метрики\n",
    "- Построен дашборд в Looker Studio\n",
    "- Изучена продажная конверсия"
   ]
  }
 ],
 "metadata": {
  "colab": {
   "provenance": [],
   "toc_visible": true
  },
  "kernelspec": {
   "display_name": "Python 3 (ipykernel)",
   "language": "python",
   "name": "python3"
  },
  "language_info": {
   "codemirror_mode": {
    "name": "ipython",
    "version": 3
   },
   "file_extension": ".py",
   "mimetype": "text/x-python",
   "name": "python",
   "nbconvert_exporter": "python",
   "pygments_lexer": "ipython3",
   "version": "3.10.12"
  }
 },
 "nbformat": 4,
 "nbformat_minor": 4
}
